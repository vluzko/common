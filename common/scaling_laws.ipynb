{
 "cells": [
  {
   "cell_type": "markdown",
   "id": "9e9c8f3d-94d6-4498-a138-f7644f2ed1ec",
   "metadata": {},
   "source": [
    "# Scaling Laws"
   ]
  },
  {
   "cell_type": "markdown",
   "id": "eb09285d-c984-4e79-a2ee-c21b3d94d66a",
   "metadata": {},
   "source": [
    "## Scaling Laws for Neural Language Models"
   ]
  },
  {
   "cell_type": "code",
   "execution_count": 5,
   "id": "07992438-5efe-4a98-a449-6622be7c3dc2",
   "metadata": {},
   "outputs": [],
   "source": [
    "from matplotlib import pyplot as plt"
   ]
  },
  {
   "cell_type": "code",
   "execution_count": 1,
   "id": "6378c462-a8b0-469d-be1c-0a3926b3099f",
   "metadata": {},
   "outputs": [],
   "source": [
    "alpha_data = 0.095\n",
    "data_c = 5.4e13\n",
    "def data_scaling(d: int) -> float:\n",
    "    return (data_c / d)**alpha_data"
   ]
  },
  {
   "cell_type": "code",
   "execution_count": 2,
   "id": "fb4469e2-71eb-4080-adbe-1ce5c4db9814",
   "metadata": {},
   "outputs": [],
   "source": [
    "# The exponent for parameter scaling\n",
    "alpha_params = 0.076\n",
    "n_c = 8.8e13 \n",
    "def param_scaling(n: int) -> float:\n",
    "    return (n_c / n)** alpha_params"
   ]
  },
  {
   "cell_type": "code",
   "execution_count": 8,
   "id": "171d369f-3da5-4e21-8cfd-aa1a8c2569dd",
   "metadata": {},
   "outputs": [],
   "source": [
    "def data_param_scaling(d: int, n: int) -> float:\n",
    "    inner = (n_c / n) ** (alpha_params / alpha_data) + data_c / d\n",
    "    return inner ** alpha_data"
   ]
  },
  {
   "cell_type": "code",
   "execution_count": 4,
   "id": "4bb2cd3e-66ec-4043-a76d-6f7f9f890085",
   "metadata": {},
   "outputs": [],
   "source": [
    "data_scale = [data_scaling(10**x) for x in range(5, 15)]\n",
    "param_scale = [ param_scaling(10**x) for x in range(5, 15)]"
   ]
  },
  {
   "cell_type": "code",
   "execution_count": 7,
   "id": "9485a260-2d3d-432a-85f7-6015ebd41058",
   "metadata": {},
   "outputs": [
    {
     "data": {
      "image/png": "[encoded data removed]",
      "text/plain": [
       "<Figure size 432x288 with 1 Axes>"
      ]
     },
     "metadata": {
      "needs_background": "light"
     },
     "output_type": "display_data"
    }
   ],
   "source": [
    "fig, ax = plt.subplots()\n",
    "ax.scatter(range(10), data_scale)\n",
    "ax.scatter(range(10), param_scale)\n",
    "plt.show()"
   ]
  },
  {
   "cell_type": "code",
   "execution_count": null,
   "id": "0352b1bb-91de-487c-8543-bbe4b39cf76d",
   "metadata": {},
   "outputs": [],
   "source": []
  }
 ],
 "metadata": {
  "kernelspec": {
   "display_name": "main",
   "language": "python",
   "name": "main"
  },
  "language_info": {
   "codemirror_mode": {
    "name": "ipython",
    "version": 3
   },
   "file_extension": ".py",
   "mimetype": "text/x-python",
   "name": "python",
   "nbconvert_exporter": "python",
   "pygments_lexer": "ipython3",
   "version": "3.8.5"
  }
 },
 "nbformat": 4,
 "nbformat_minor": 5
}
