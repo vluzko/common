{
 "cells": [
  {
   "cell_type": "markdown",
   "source": [
    "# Transformers\n",
    "In order:\n",
    "- Positional Encoding\n",
    "- Query, key, value encoding\n",
    "- Encoder layers\n",
    "    - Multi Headed Attention\n",
    "    - Linear layer\n",
    "- Decoder\n",
    "    -"
   ],
   "metadata": {}
  },
  {
   "cell_type": "markdown",
   "source": [
    "## Questions\n",
    "- What do Q, K, V look like if I'm doing translation?\n",
    "- Why do we use sin and cos for positional encoding"
   ],
   "metadata": {}
  }
 ],
 "metadata": {
  "orig_nbformat": 4,
  "language_info": {
   "name": "python"
  }
 },
 "nbformat": 4,
 "nbformat_minor": 2
}