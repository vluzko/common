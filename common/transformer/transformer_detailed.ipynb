{
 "cells": [
  {
   "cell_type": "markdown",
   "metadata": {},
   "source": [
    "# Transformers\n",
    "In order:\n",
    "- Positional Encoding\n",
    "- Query, key, value encoding\n",
    "- Encoder layers\n",
    "    - Multi Headed Attention\n",
    "    - Linear layer\n",
    "- Decoder"
   ]
  },
  {
   "cell_type": "raw",
   "metadata": {},
   "source": []
  },
  {
   "cell_type": "markdown",
   "metadata": {},
   "source": [
    "## Questions\n",
    "- What do Q, K, V look like if I'm doing translation?\n",
    "- Why do we use sin and cos for positional encoding\n",
    "- How do we implement masking?\n",
    "- Get Q, K, V using Conv1d\n",
    "- Encoder only vs decoder only?\n",
    "    - BERT is encoder only\n",
    "    - GPT is decoder only\n",
    "    - T5 is encoder and decoder\n",
    "        - A translation model"
   ]
  }
 ],
 "metadata": {
  "kernelspec": {
   "display_name": "Python 3.10.0 64-bit",
   "metadata": {
    "interpreter": {
     "hash": "8b3f3929e97ba668b6324c040da885e10464dc50dd24344342a4404465e4d38f"
    }
   },
   "name": "python3"
  },
  "language_info": {
   "name": "python",
   "version": "3.10.0-final"
  },
  "orig_nbformat": 4
 },
 "nbformat": 4,
 "nbformat_minor": 2
}