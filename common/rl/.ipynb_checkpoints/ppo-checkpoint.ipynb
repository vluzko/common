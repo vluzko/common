{
 "cells": [
  {
   "cell_type": "markdown",
   "id": "ffeaed24-e445-4b81-98ad-8958d0705e88",
   "metadata": {},
   "source": [
    "    title: \"Proximal Policy Optimization Algorithms\"\n",
    "    arxiv: \"https://arxiv.org/abs/1707.06347\"\n",
    "    tags:\n",
    "        - rl"
   ]
  },
  {
   "cell_type": "markdown",
   "id": "03820f1e-9433-4c9c-8243-a81d3f065fe2",
   "metadata": {},
   "source": [
    "# PPO\n",
    "A modification of TRPO to be easier"
   ]
  },
  {
   "cell_type": "code",
   "execution_count": null,
   "id": "12c67c85-dc9f-439d-b8c1-a6942a19b48e",
   "metadata": {},
   "outputs": [],
   "source": [
    "def inner_loop():\n",
    "    actions = torch.empty(timesteps)\n",
    "    # Rewards at timestep i and i+1\n",
    "    # This is a massive waste of memory but it makes the indexing easier\n",
    "    # The alternative is keeping track of where we reset\n",
    "    old_rewards = torch.empty(timesteps)\n",
    "    new_rewards = torch.empty(timesteps)\n",
    "    dones = torch.zeros(timesteps, dtype=torch.bool)\n",
    "    states = torch.empty(timesteps+1)\n",
    "    state = env.reset()\n",
    "    states[0] = state\n",
    "    # Generate trajectories\n",
    "    for i in range(timesteps):\n",
    "        action, logprob = agent.policy(state)\n",
    "        state, reward, done, _ = env.step(action)\n",
    "        old_rewards[i+1]\n",
    "        if done:\n",
    "            state = env.reset()\n",
    "        \n",
    "        states[i+1] = state\n",
    "        \n",
    "    # Update actor\n",
    "    \n",
    "    # Update critic"
   ]
  }
 ],
 "metadata": {
  "kernelspec": {
   "display_name": "main",
   "language": "python",
   "name": "main"
  },
  "language_info": {
   "codemirror_mode": {
    "name": "ipython",
    "version": 3
   },
   "file_extension": ".py",
   "mimetype": "text/x-python",
   "name": "python",
   "nbconvert_exporter": "python",
   "pygments_lexer": "ipython3",
   "version": "3.8.5"
  }
 },
 "nbformat": 4,
 "nbformat_minor": 5
}
