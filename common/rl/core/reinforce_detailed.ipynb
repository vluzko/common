{
 "cells": [
  {
   "cell_type": "markdown",
   "source": [
    "# REINFORCE\n",
    "Monte-Carlo policy gradient:\n",
    "- Monte-Carlo: policy is updated at the end of each trajectory\n",
    "- policy gradient: we update the policy directly (with return * log prob)"
   ],
   "metadata": {}
  },
  {
   "cell_type": "markdown",
   "source": [
    "def trajectory(policy, env):\n",
    "    raise NotImplementedError"
   ],
   "metadata": {}
  },
  {
   "cell_type": "markdown",
   "source": [],
   "metadata": {}
  }
 ],
 "metadata": {
  "orig_nbformat": 4,
  "language_info": {
   "name": "python"
  }
 },
 "nbformat": 4,
 "nbformat_minor": 2
}