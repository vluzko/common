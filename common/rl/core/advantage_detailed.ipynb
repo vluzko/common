{
 "cells": [
  {
   "cell_type": "code",
   "execution_count": null,
   "source": [
    "def gae(values: torch.Tensor, rewards: torch.Tensor, dones: torch.Tensor, gamma: float):\n",
    "    td_errors = rewards + gamma * values[1:] * (1 - dones) - values[:-1]\n",
    "    advantages = torch.empty(values.shape).to(DEVICE)\n",
    "    for i in range(len(rewards)-1, -1, -1):\n",
    "        advantages[i] = td_errors[i] + gamma * advantages[i + 1] * (1 - dones[i])\n",
    "    return advantages"
   ],
   "outputs": [],
   "metadata": {}
  }
 ],
 "metadata": {
  "orig_nbformat": 4,
  "language_info": {
   "name": "python"
  }
 },
 "nbformat": 4,
 "nbformat_minor": 2
}