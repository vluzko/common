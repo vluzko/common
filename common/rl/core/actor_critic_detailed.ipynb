{
 "cells": [
  {
   "cell_type": "markdown",
   "source": [
    "# Actor Critic\n",
    "Two models, an actor and a critic"
   ],
   "metadata": {}
  },
  {
   "cell_type": "code",
   "execution_count": 4,
   "source": [
    "# Standard imports\n",
    "import numpy as np\n",
    "import gym\n",
    "import torch\n",
    "from torch import nn, optim, distributions\n",
    "from torch.nn import functional\n",
    "\n",
    "DEVICE = 'cuda' if torch.cuda.is_available() else 'cpu'"
   ],
   "outputs": [],
   "metadata": {}
  },
  {
   "cell_type": "code",
   "execution_count": 5,
   "source": [
    "# Note: as an alternative, we could combine these into one network with two outputs\n",
    "class Actor(nn.Module):\n",
    "    \"\"\"Policy network\"\"\"\n",
    "    def __init__(self, state_dim: int, action_dim: int):\n",
    "        super().__init__()\n",
    "        self.fc1 = nn.Linear(state_dim, 128)\n",
    "        self.fc2 = nn.Linear(128, 128)\n",
    "        self.fc3 = nn.Linear(128, action_dim)\n",
    "\n",
    "    def forward(self, state: torch.Tensor) -> torch.Tensor:\n",
    "        x = functional.relu(self.fc1(state))\n",
    "        x = functional.relu(self.fc2(x))\n",
    "        x = self.fc3(x)\n",
    "        # Policy outputs probabilities over actions\n",
    "        return functional.softmax(x)\n",
    "\n",
    "\n",
    "class Critic(nn.Module):\n",
    "    \"\"\"Our value predictor\"\"\"\n",
    "\n",
    "    def __init__(self, state_dim: int) -> None:\n",
    "        super().__init__()\n",
    "        self.state_dim = state_dim\n",
    "        self.action_dim = action_dim\n",
    "        self.fc1 = nn.Linear(state_dim, 128)\n",
    "        self.fc2 = nn.Linear(128, 128)\n",
    "        self.fc3 = nn.Linear(128, 1)\n",
    "\n",
    "    def forward(self, state: torch.Tensor) -> torch.Tensor:\n",
    "        x = functional.relu(self.fc1(state))\n",
    "        x = functional.relu(self.fc2(x))\n",
    "        # The value network outputs a single value\n",
    "        return self.fc3(x)"
   ],
   "outputs": [],
   "metadata": {}
  },
  {
   "cell_type": "code",
   "execution_count": 11,
   "source": [
    "def train(gamma: float=0.95):\n",
    "    env = gym.make('CartPole-v1')\n",
    "    state_dim = env.observation_space.shape[0]\n",
    "    action_dim = env.action_space.n\n",
    "    actor = Actor(state_dim, action_dim).to(DEVICE)\n",
    "    critic = Critic(state_dim).to(DEVICE)\n",
    "    opt = optim.Adam((actor.parameters(), critic.parameters()))\n",
    "\n",
    "    state = env.reset().float().to(DEVICE)\n",
    "    for i in range(1000):\n",
    "        action_probs = actor(state)\n",
    "        pred_value = critic(state)\n",
    "\n",
    "        action = distributions.Categorical(probs=action_probs).sample()\n",
    "        next_state, reward, done, _ = env.step(action.item())\n",
    "        next_state = next_state.float().to(DEVICE)\n",
    "        next_pred_value = critic(next_state)\n",
    "        # We update with log(pi(a, s)) * (reward + V(s') - V(s))\n",
    "        next_reward_est = reward + gamma * next_pred_value - pred_value if not done else 0\n",
    "        actor_loss = -torch.log(action_probs[action]) * next_reward_est\n",
    "        actor_loss.backward()\n",
    "        actor_opt.step()\n",
    "        actor_opt.zero_grad()\n",
    "\n",
    "        # Just MSE loss is fine\n",
    "        critic_loss = functional.mse_loss(pred_value, reward + gamma * next_pred_value)\n",
    "        critic_loss.backward()\n",
    "        critic_opt.step()\n",
    "        critic_opt.zero_grad()\n",
    "\n",
    "        print(actor_loss)\n",
    "\n",
    "        if done:\n",
    "            state = env.reset().float().to(DEVICE)"
   ],
   "outputs": [],
   "metadata": {}
  },
  {
   "cell_type": "code",
   "execution_count": 12,
   "source": [
    "train()"
   ],
   "outputs": [
    {
     "output_type": "error",
     "ename": "IndexError",
     "evalue": "tuple index out of range",
     "traceback": [
      "\u001b[0;31m---------------------------------------------------------------------------\u001b[0m",
      "\u001b[0;31mIndexError\u001b[0m                                Traceback (most recent call last)",
      "\u001b[0;32m<ipython-input-12-2da0ffaf5447>\u001b[0m in \u001b[0;36m<module>\u001b[0;34m\u001b[0m\n\u001b[0;32m----> 1\u001b[0;31m \u001b[0mtrain\u001b[0m\u001b[0;34m(\u001b[0m\u001b[0;34m)\u001b[0m\u001b[0;34m\u001b[0m\u001b[0;34m\u001b[0m\u001b[0m\n\u001b[0m",
      "\u001b[0;32m<ipython-input-11-46341918bb6d>\u001b[0m in \u001b[0;36mtrain\u001b[0;34m(gamma)\u001b[0m\n\u001b[1;32m      2\u001b[0m     \u001b[0menv\u001b[0m \u001b[0;34m=\u001b[0m \u001b[0mgym\u001b[0m\u001b[0;34m.\u001b[0m\u001b[0mmake\u001b[0m\u001b[0;34m(\u001b[0m\u001b[0;34m'CartPole-v1'\u001b[0m\u001b[0;34m)\u001b[0m\u001b[0;34m\u001b[0m\u001b[0;34m\u001b[0m\u001b[0m\n\u001b[1;32m      3\u001b[0m     \u001b[0mstate_dim\u001b[0m \u001b[0;34m=\u001b[0m \u001b[0menv\u001b[0m\u001b[0;34m.\u001b[0m\u001b[0mobservation_space\u001b[0m\u001b[0;34m.\u001b[0m\u001b[0mshape\u001b[0m\u001b[0;34m[\u001b[0m\u001b[0;36m0\u001b[0m\u001b[0;34m]\u001b[0m\u001b[0;34m\u001b[0m\u001b[0;34m\u001b[0m\u001b[0m\n\u001b[0;32m----> 4\u001b[0;31m     \u001b[0maction_dim\u001b[0m \u001b[0;34m=\u001b[0m \u001b[0menv\u001b[0m\u001b[0;34m.\u001b[0m\u001b[0maction_space\u001b[0m\u001b[0;34m.\u001b[0m\u001b[0mshape\u001b[0m\u001b[0;34m[\u001b[0m\u001b[0;36m0\u001b[0m\u001b[0;34m]\u001b[0m\u001b[0;34m\u001b[0m\u001b[0;34m\u001b[0m\u001b[0m\n\u001b[0m\u001b[1;32m      5\u001b[0m     \u001b[0mactor\u001b[0m \u001b[0;34m=\u001b[0m \u001b[0mActor\u001b[0m\u001b[0;34m(\u001b[0m\u001b[0mstate_dim\u001b[0m\u001b[0;34m,\u001b[0m \u001b[0maction_dim\u001b[0m\u001b[0;34m)\u001b[0m\u001b[0;34m.\u001b[0m\u001b[0mto\u001b[0m\u001b[0;34m(\u001b[0m\u001b[0mDEVICE\u001b[0m\u001b[0;34m)\u001b[0m\u001b[0;34m\u001b[0m\u001b[0;34m\u001b[0m\u001b[0m\n\u001b[1;32m      6\u001b[0m     \u001b[0mcritic\u001b[0m \u001b[0;34m=\u001b[0m \u001b[0mCritic\u001b[0m\u001b[0;34m(\u001b[0m\u001b[0mstate_dim\u001b[0m\u001b[0;34m)\u001b[0m\u001b[0;34m.\u001b[0m\u001b[0mto\u001b[0m\u001b[0;34m(\u001b[0m\u001b[0mDEVICE\u001b[0m\u001b[0;34m)\u001b[0m\u001b[0;34m\u001b[0m\u001b[0;34m\u001b[0m\u001b[0m\n",
      "\u001b[0;31mIndexError\u001b[0m: tuple index out of range"
     ]
    }
   ],
   "metadata": {}
  },
  {
   "cell_type": "code",
   "execution_count": null,
   "source": [],
   "outputs": [],
   "metadata": {}
  }
 ],
 "metadata": {
  "orig_nbformat": 4,
  "language_info": {
   "name": "python",
   "version": "3.8.5",
   "mimetype": "text/x-python",
   "codemirror_mode": {
    "name": "ipython",
    "version": 3
   },
   "pygments_lexer": "ipython3",
   "nbconvert_exporter": "python",
   "file_extension": ".py"
  },
  "kernelspec": {
   "name": "python3",
   "display_name": "Python 3.8.5 64-bit"
  },
  "interpreter": {
   "hash": "25685c991f88d3d3df83e12faeeaba29ebbebc0275b91503c92b58711f7d3ad8"
  }
 },
 "nbformat": 4,
 "nbformat_minor": 2
}