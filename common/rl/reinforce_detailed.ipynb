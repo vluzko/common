{
 "cells": [
  {
   "cell_type": "code",
   "execution_count": null,
   "metadata": {},
   "outputs": [],
   "source": [
    "import torch\n",
    "def train(env, policy, gamma):\n",
    "    state, reward, done, _ = env.reset()\n",
    "    rs = []\n",
    "    lprobs = []\n",
    "    while not done:\n",
    "        action, log_prob = policy(state)\n",
    "        state, reward, done = env.step(action)\n",
    "        rs.append(reward)\n",
    "        lprobs.append(log_prob)\n",
    "\n",
    "    discounted = torch.zeros_like(rs)\n",
    "    # Calculate discounted rewards\n",
    "    # This can be optimized by computing in reverse\n",
    "    for i in range(len(rs)):\n",
    "        g_t = 0\n",
    "        for r in rs[i:]:\n",
    "            g_t += gamma**i * r\n",
    "        discounted[i] = g_t\n",
    "\n",
    "    log_probs = torch.stack(lprobs)\n",
    "    grad = -log_probs * discounted\n",
    "    grad.sum().backwards()\n",
    "    optimizer.step()\n",
    "\n",
    "\n"
   ]
  }
 ],
 "metadata": {
  "kernelspec": {
   "display_name": "Python 3.10.0 64-bit",
   "metadata": {
    "interpreter": {
     "hash": "8b3f3929e97ba668b6324c040da885e10464dc50dd24344342a4404465e4d38f"
    }
   },
   "name": "python3"
  },
  "language_info": {
   "name": "python",
   "nbconvert_exporter": "python",
   "version": "3.10.0-final"
  },
  "orig_nbformat": 2
 },
 "nbformat": 4,
 "nbformat_minor": 2
}